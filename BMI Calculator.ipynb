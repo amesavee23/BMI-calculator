{
 "cells": [
  {
   "cell_type": "code",
   "execution_count": null,
   "id": "4c3656d2",
   "metadata": {},
   "outputs": [],
   "source": [
    "\n",
    "Name = (input (\"Enter your name: \"))\n",
    "Weight = float(input (\"Your weight in Kilogram: \"))\n",
    "Height = float(input (\"Your height in Metres: \"))\n",
    "BMI = Weight/(Height**2).round()\n",
    "print(\"Hello \" + Name+(f\", your BMI is: {BMI}\")) \n",
    "if BMI == 0:\n",
    "    print(\"Please enter valid inputs.\")\n",
    "if BMI <18.5:\n",
    "    print(f\"You are underweight.\")\n",
    "elif BMI <= 25:\n",
    "    print(\"You have a normal weight.\")\n",
    "elif  BMI <=30:\n",
    "    print(\"You are overweight.\")\n",
    "else:\n",
    "    print(\"You are obese.\")"
   ]
  },
  {
   "cell_type": "code",
   "execution_count": null,
   "id": "eca8871d",
   "metadata": {},
   "outputs": [],
   "source": []
  },
  {
   "cell_type": "code",
   "execution_count": null,
   "id": "eb0302bf",
   "metadata": {},
   "outputs": [],
   "source": []
  },
  {
   "cell_type": "code",
   "execution_count": null,
   "id": "e7a33d40",
   "metadata": {},
   "outputs": [],
   "source": []
  },
  {
   "cell_type": "code",
   "execution_count": null,
   "id": "42820c1d",
   "metadata": {},
   "outputs": [],
   "source": []
  },
  {
   "cell_type": "code",
   "execution_count": null,
   "id": "d94907ef",
   "metadata": {},
   "outputs": [],
   "source": []
  }
 ],
 "metadata": {
  "kernelspec": {
   "display_name": "Python 3 (ipykernel)",
   "language": "python",
   "name": "python3"
  },
  "language_info": {
   "codemirror_mode": {
    "name": "ipython",
    "version": 3
   },
   "file_extension": ".py",
   "mimetype": "text/x-python",
   "name": "python",
   "nbconvert_exporter": "python",
   "pygments_lexer": "ipython3",
   "version": "3.9.13"
  }
 },
 "nbformat": 4,
 "nbformat_minor": 5
}
